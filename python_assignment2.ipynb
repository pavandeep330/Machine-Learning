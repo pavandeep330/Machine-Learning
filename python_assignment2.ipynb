{
 "cells": [
  {
   "cell_type": "markdown",
   "source": [
    "Question 1"
   ],
   "metadata": {}
  },
  {
   "cell_type": "code",
   "execution_count": null,
   "source": [
    "for x in range(0,6):\r\n",
    "    a = x\r\n",
    "    for a in range(0,x):\r\n",
    "        print(\"*\",end=\" \")\r\n",
    "    print(\"\\n\")\r\n",
    "for x in range(0,4):\r\n",
    "    a = 4 - x\r\n",
    "    for y in range(0,a):\r\n",
    "        print(\"*\",end=\" \")\r\n",
    "    print(\"\\n\")"
   ],
   "outputs": [],
   "metadata": {}
  },
  {
   "cell_type": "markdown",
   "source": [
    "Question 2 "
   ],
   "metadata": {}
  },
  {
   "cell_type": "code",
   "execution_count": null,
   "source": [
    "string = input(\"enter the string: \")\r\n",
    "print(string[::-1])"
   ],
   "outputs": [],
   "metadata": {}
  }
 ],
 "metadata": {
  "orig_nbformat": 4,
  "language_info": {
   "name": "python",
   "version": "3.7.7",
   "mimetype": "text/x-python",
   "codemirror_mode": {
    "name": "ipython",
    "version": 3
   },
   "pygments_lexer": "ipython3",
   "nbconvert_exporter": "python",
   "file_extension": ".py"
  },
  "kernelspec": {
   "name": "python3",
   "display_name": "Python 3.7.7 64-bit"
  },
  "interpreter": {
   "hash": "b71af8a7bbf5db2b7c1f0e1659a00bae941d3f85afafa6586fbae5dba8484419"
  }
 },
 "nbformat": 4,
 "nbformat_minor": 2
}