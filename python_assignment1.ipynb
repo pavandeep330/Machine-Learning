{
    "cells": [
        {
            "cell_type": "markdown",
            "source": [
                "Question 1"
            ],
            "metadata": {}
        },
        {
            "cell_type": "code",
            "execution_count": null,
            "source": [
                "a = 2000\r\n",
                "b = 3200\r\n",
                "x = a \r\n",
                "while(x<=b):\r\n",
                "    if(x%7==0):\r\n",
                "        if(x%5!=0):\r\n",
                "            print(x,end=\",\")   \r\n",
                "    x = x + 1"
            ],
            "outputs": [],
            "metadata": {}
        },
        {
            "cell_type": "markdown",
            "source": [
                "Question 2"
            ],
            "metadata": {}
        },
        {
            "cell_type": "code",
            "execution_count": null,
            "source": [
                "fname = input(\"enter first name :\")\r\n",
                "lname = input(\"enter last name :\")\r\n",
                "print(lname,fname)"
            ],
            "outputs": [],
            "metadata": {}
        },
        {
            "cell_type": "markdown",
            "source": [
                "Question 3"
            ],
            "metadata": {}
        },
        {
            "cell_type": "code",
            "execution_count": null,
            "source": [
                "import math\r\n",
                "diameter = 12 \r\n",
                "def volume(diameter):\r\n",
                "    print((4/3)*math.pi*diameter*diameter*diameter*(1/8))\r\n",
                "volume(diameter)   "
            ],
            "outputs": [],
            "metadata": {}
        }
    ],
    "metadata": {
        "orig_nbformat": 4,
        "language_info": {
            "name": "python",
            "version": "3.7.7",
            "mimetype": "text/x-python",
            "codemirror_mode": {
                "name": "ipython",
                "version": 3
            },
            "pygments_lexer": "ipython3",
            "nbconvert_exporter": "python",
            "file_extension": ".py"
        },
        "kernelspec": {
            "name": "python3",
            "display_name": "Python 3.7.7 64-bit"
        },
        "interpreter": {
            "hash": "b71af8a7bbf5db2b7c1f0e1659a00bae941d3f85afafa6586fbae5dba8484419"
        }
    },
    "nbformat": 4,
    "nbformat_minor": 2
}